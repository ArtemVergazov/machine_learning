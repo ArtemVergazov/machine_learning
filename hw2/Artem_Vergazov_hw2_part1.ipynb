{
 "cells": [
  {
   "cell_type": "markdown",
   "id": "approved-psychology",
   "metadata": {
    "id": "approved-psychology"
   },
   "source": [
    "# Home Assignment No. 2 - part one\n",
    "\n",
    "To solve this task, you will write a lot of code to try several machine learning methods for classification and regression.\n",
    "* You are **HIGHLY RECOMMENDED** to read relevant documentation, e.g. for [python](https://docs.python.org/3/), [numpy](https://docs.scipy.org/doc/numpy/reference/), [matlpotlib](https://matplotlib.org/) and [sklearn](https://scikit-learn.org/stable/). Also remember that seminars, lecture slides, [Google](http://google.com) and [StackOverflow](https://stackoverflow.com/) are your close friends during this course (and, probably, whole life?).\n",
    "\n",
    "* If you want an easy life, you have to use **BUILT-IN METHODS** of `sklearn` library instead of writing tons of your own code. There exists a class/method for almost everything you can imagine (related to this homework).\n",
    "\n",
    "* You have to write **CODE** directly inside specified places marked by comments: **BEGIN/END Solution**. Do not create new cells.\n",
    "\n",
    "* In some problems you are asked to provide a short discussion of the results. For that find the specific place marked via **Your text answer: \\<write your answer\\>**.\n",
    "\n",
    "* For every separate problem or subproblem (if specified) you can get only 0 points or maximal points for this problem. There are **NO INTERMEDIATE scores**. So make sure that you did everything required in the task.\n",
    "\n",
    "* Your **SOLUTION** notebook **MUST BE REPRODUCIBLE**, i.e., if the reviewer decides to restart the notebook and run all cells, after all the computation he will obtain exactly the same solution (with all the corresponding plots) as in your uploaded notebook. For this purpose, we suggest fixing random `seed` or (better) define `random_state=` inside every algorithm that uses some pseudorandomness.\n",
    "\n",
    "* Your code must be clear to the reviewer. For this purpose, try to include necessary comments inside the code. But remember: **GOOD CODE MUST BE SELF-EXPLANATORY** without any additional comments.\n",
    "\n",
    "* Many `sklearn` algorithms support multithreading (Ensemble Methods, Cross-Validation, etc.). Check if the particular algorithm has `n_jobs` parameters and set it to `-1` to use all the cores.\n"
   ]
  },
  {
   "cell_type": "code",
   "execution_count": 1,
   "id": "cooperative-spokesman",
   "metadata": {
    "id": "cooperative-spokesman"
   },
   "outputs": [],
   "source": [
    "import numpy as np\n",
    "import sklearn\n",
    "from sklearn.model_selection import train_test_split\n",
    "import pandas as pd\n",
    "import matplotlib.pyplot as plt\n",
    "from sklearn.model_selection import cross_val_score\n",
    "%matplotlib inline\n",
    "\n",
    "# My imports\n",
    "from sklearn.ensemble import RandomForestRegressor, RandomForestClassifier\n",
    "from sklearn.linear_model import LinearRegression, Ridge, LogisticRegression\n",
    "from sklearn.tree import DecisionTreeRegressor, DecisionTreeClassifier\n",
    "from sklearn.metrics import mean_squared_log_error, accuracy_score\n",
    "from sklearn.neighbors import KNeighborsClassifier\n",
    "from sklearn.multiclass import OneVsOneClassifier, OneVsRestClassifier\n",
    "from time import time\n",
    "from IPython.display import display"
   ]
  },
  {
   "cell_type": "code",
   "execution_count": 2,
   "id": "noted-bridal",
   "metadata": {
    "id": "noted-bridal"
   },
   "outputs": [],
   "source": [
    "import warnings\n",
    "warnings.filterwarnings(\"ignore\")"
   ]
  },
  {
   "cell_type": "markdown",
   "id": "guilty-contamination",
   "metadata": {
    "id": "guilty-contamination"
   },
   "source": [
    "## Task 1. Model and feature selection problem (3 points)\n",
    "\n",
    "Your goal in this task is to predict the price (```price_doc```) given some characteristics of a house. In order to do that, you will demonstrate your abilities in data preprocessing, finding feature importances, applying different ML models."
   ]
  },
  {
   "cell_type": "markdown",
   "id": "friendly-review",
   "metadata": {
    "id": "friendly-review"
   },
   "source": [
    "### Subproblem 1.1. Data preprocessing and feauture importances (1 point)\n",
    "\n",
    "The goal of this subproblem is to prepare the data for further usage. Complete all of the following subtasks:"
   ]
  },
  {
   "cell_type": "markdown",
   "id": "rational-reggae",
   "metadata": {
    "id": "rational-reggae"
   },
   "source": [
    "**1.1.1) load the dataset**"
   ]
  },
  {
   "cell_type": "code",
   "execution_count": 3,
   "id": "nutritional-phoenix",
   "metadata": {
    "id": "nutritional-phoenix"
   },
   "outputs": [
    {
     "data": {
      "text/html": [
       "<div>\n",
       "<style scoped>\n",
       "    .dataframe tbody tr th:only-of-type {\n",
       "        vertical-align: middle;\n",
       "    }\n",
       "\n",
       "    .dataframe tbody tr th {\n",
       "        vertical-align: top;\n",
       "    }\n",
       "\n",
       "    .dataframe thead th {\n",
       "        text-align: right;\n",
       "    }\n",
       "</style>\n",
       "<table border=\"1\" class=\"dataframe\">\n",
       "  <thead>\n",
       "    <tr style=\"text-align: right;\">\n",
       "      <th></th>\n",
       "      <th>timestamp</th>\n",
       "      <th>full_sq</th>\n",
       "      <th>life_sq</th>\n",
       "      <th>floor</th>\n",
       "      <th>max_floor</th>\n",
       "      <th>material</th>\n",
       "      <th>build_year</th>\n",
       "      <th>num_room</th>\n",
       "      <th>kitch_sq</th>\n",
       "      <th>state</th>\n",
       "      <th>...</th>\n",
       "      <th>provision_retail_space_modern_sqm</th>\n",
       "      <th>turnover_catering_per_cap</th>\n",
       "      <th>theaters_viewers_per_1000_cap</th>\n",
       "      <th>seats_theather_rfmin_per_100000_cap</th>\n",
       "      <th>museum_visitis_per_100_cap</th>\n",
       "      <th>bandwidth_sports</th>\n",
       "      <th>population_reg_sports_share</th>\n",
       "      <th>students_reg_sports_share</th>\n",
       "      <th>apartment_build</th>\n",
       "      <th>apartment_fund_sqm</th>\n",
       "    </tr>\n",
       "  </thead>\n",
       "  <tbody>\n",
       "    <tr>\n",
       "      <th>0</th>\n",
       "      <td>2011-08-20</td>\n",
       "      <td>43</td>\n",
       "      <td>27.0</td>\n",
       "      <td>4.0</td>\n",
       "      <td>NaN</td>\n",
       "      <td>NaN</td>\n",
       "      <td>NaN</td>\n",
       "      <td>NaN</td>\n",
       "      <td>NaN</td>\n",
       "      <td>NaN</td>\n",
       "      <td>...</td>\n",
       "      <td>271.0</td>\n",
       "      <td>6943.0</td>\n",
       "      <td>565.0</td>\n",
       "      <td>0.45356</td>\n",
       "      <td>1240.0</td>\n",
       "      <td>269768.0</td>\n",
       "      <td>22.37</td>\n",
       "      <td>64.12</td>\n",
       "      <td>23587.0</td>\n",
       "      <td>230310.0</td>\n",
       "    </tr>\n",
       "    <tr>\n",
       "      <th>1</th>\n",
       "      <td>2011-08-23</td>\n",
       "      <td>34</td>\n",
       "      <td>19.0</td>\n",
       "      <td>3.0</td>\n",
       "      <td>NaN</td>\n",
       "      <td>NaN</td>\n",
       "      <td>NaN</td>\n",
       "      <td>NaN</td>\n",
       "      <td>NaN</td>\n",
       "      <td>NaN</td>\n",
       "      <td>...</td>\n",
       "      <td>271.0</td>\n",
       "      <td>6943.0</td>\n",
       "      <td>565.0</td>\n",
       "      <td>0.45356</td>\n",
       "      <td>1240.0</td>\n",
       "      <td>269768.0</td>\n",
       "      <td>22.37</td>\n",
       "      <td>64.12</td>\n",
       "      <td>23587.0</td>\n",
       "      <td>230310.0</td>\n",
       "    </tr>\n",
       "    <tr>\n",
       "      <th>2</th>\n",
       "      <td>2011-08-27</td>\n",
       "      <td>43</td>\n",
       "      <td>29.0</td>\n",
       "      <td>2.0</td>\n",
       "      <td>NaN</td>\n",
       "      <td>NaN</td>\n",
       "      <td>NaN</td>\n",
       "      <td>NaN</td>\n",
       "      <td>NaN</td>\n",
       "      <td>NaN</td>\n",
       "      <td>...</td>\n",
       "      <td>271.0</td>\n",
       "      <td>6943.0</td>\n",
       "      <td>565.0</td>\n",
       "      <td>0.45356</td>\n",
       "      <td>1240.0</td>\n",
       "      <td>269768.0</td>\n",
       "      <td>22.37</td>\n",
       "      <td>64.12</td>\n",
       "      <td>23587.0</td>\n",
       "      <td>230310.0</td>\n",
       "    </tr>\n",
       "    <tr>\n",
       "      <th>3</th>\n",
       "      <td>2011-09-01</td>\n",
       "      <td>89</td>\n",
       "      <td>50.0</td>\n",
       "      <td>9.0</td>\n",
       "      <td>NaN</td>\n",
       "      <td>NaN</td>\n",
       "      <td>NaN</td>\n",
       "      <td>NaN</td>\n",
       "      <td>NaN</td>\n",
       "      <td>NaN</td>\n",
       "      <td>...</td>\n",
       "      <td>271.0</td>\n",
       "      <td>6943.0</td>\n",
       "      <td>565.0</td>\n",
       "      <td>0.45356</td>\n",
       "      <td>1240.0</td>\n",
       "      <td>269768.0</td>\n",
       "      <td>22.37</td>\n",
       "      <td>64.12</td>\n",
       "      <td>23587.0</td>\n",
       "      <td>230310.0</td>\n",
       "    </tr>\n",
       "    <tr>\n",
       "      <th>4</th>\n",
       "      <td>2011-09-05</td>\n",
       "      <td>77</td>\n",
       "      <td>77.0</td>\n",
       "      <td>4.0</td>\n",
       "      <td>NaN</td>\n",
       "      <td>NaN</td>\n",
       "      <td>NaN</td>\n",
       "      <td>NaN</td>\n",
       "      <td>NaN</td>\n",
       "      <td>NaN</td>\n",
       "      <td>...</td>\n",
       "      <td>271.0</td>\n",
       "      <td>6943.0</td>\n",
       "      <td>565.0</td>\n",
       "      <td>0.45356</td>\n",
       "      <td>1240.0</td>\n",
       "      <td>269768.0</td>\n",
       "      <td>22.37</td>\n",
       "      <td>64.12</td>\n",
       "      <td>23587.0</td>\n",
       "      <td>230310.0</td>\n",
       "    </tr>\n",
       "    <tr>\n",
       "      <th>...</th>\n",
       "      <td>...</td>\n",
       "      <td>...</td>\n",
       "      <td>...</td>\n",
       "      <td>...</td>\n",
       "      <td>...</td>\n",
       "      <td>...</td>\n",
       "      <td>...</td>\n",
       "      <td>...</td>\n",
       "      <td>...</td>\n",
       "      <td>...</td>\n",
       "      <td>...</td>\n",
       "      <td>...</td>\n",
       "      <td>...</td>\n",
       "      <td>...</td>\n",
       "      <td>...</td>\n",
       "      <td>...</td>\n",
       "      <td>...</td>\n",
       "      <td>...</td>\n",
       "      <td>...</td>\n",
       "      <td>...</td>\n",
       "      <td>...</td>\n",
       "    </tr>\n",
       "    <tr>\n",
       "      <th>30466</th>\n",
       "      <td>2015-06-30</td>\n",
       "      <td>44</td>\n",
       "      <td>27.0</td>\n",
       "      <td>7.0</td>\n",
       "      <td>9.0</td>\n",
       "      <td>1.0</td>\n",
       "      <td>1975.0</td>\n",
       "      <td>2.0</td>\n",
       "      <td>6.0</td>\n",
       "      <td>3.0</td>\n",
       "      <td>...</td>\n",
       "      <td>NaN</td>\n",
       "      <td>10805.0</td>\n",
       "      <td>NaN</td>\n",
       "      <td>0.45888</td>\n",
       "      <td>NaN</td>\n",
       "      <td>463938.0</td>\n",
       "      <td>NaN</td>\n",
       "      <td>NaN</td>\n",
       "      <td>NaN</td>\n",
       "      <td>234576.9</td>\n",
       "    </tr>\n",
       "    <tr>\n",
       "      <th>30467</th>\n",
       "      <td>2015-06-30</td>\n",
       "      <td>86</td>\n",
       "      <td>59.0</td>\n",
       "      <td>3.0</td>\n",
       "      <td>9.0</td>\n",
       "      <td>2.0</td>\n",
       "      <td>1935.0</td>\n",
       "      <td>4.0</td>\n",
       "      <td>10.0</td>\n",
       "      <td>3.0</td>\n",
       "      <td>...</td>\n",
       "      <td>NaN</td>\n",
       "      <td>10805.0</td>\n",
       "      <td>NaN</td>\n",
       "      <td>0.45888</td>\n",
       "      <td>NaN</td>\n",
       "      <td>463938.0</td>\n",
       "      <td>NaN</td>\n",
       "      <td>NaN</td>\n",
       "      <td>NaN</td>\n",
       "      <td>234576.9</td>\n",
       "    </tr>\n",
       "    <tr>\n",
       "      <th>30468</th>\n",
       "      <td>2015-06-30</td>\n",
       "      <td>45</td>\n",
       "      <td>NaN</td>\n",
       "      <td>10.0</td>\n",
       "      <td>20.0</td>\n",
       "      <td>1.0</td>\n",
       "      <td>NaN</td>\n",
       "      <td>1.0</td>\n",
       "      <td>1.0</td>\n",
       "      <td>1.0</td>\n",
       "      <td>...</td>\n",
       "      <td>NaN</td>\n",
       "      <td>10805.0</td>\n",
       "      <td>NaN</td>\n",
       "      <td>0.45888</td>\n",
       "      <td>NaN</td>\n",
       "      <td>463938.0</td>\n",
       "      <td>NaN</td>\n",
       "      <td>NaN</td>\n",
       "      <td>NaN</td>\n",
       "      <td>234576.9</td>\n",
       "    </tr>\n",
       "    <tr>\n",
       "      <th>30469</th>\n",
       "      <td>2015-06-30</td>\n",
       "      <td>64</td>\n",
       "      <td>32.0</td>\n",
       "      <td>5.0</td>\n",
       "      <td>15.0</td>\n",
       "      <td>1.0</td>\n",
       "      <td>2003.0</td>\n",
       "      <td>2.0</td>\n",
       "      <td>11.0</td>\n",
       "      <td>2.0</td>\n",
       "      <td>...</td>\n",
       "      <td>NaN</td>\n",
       "      <td>10805.0</td>\n",
       "      <td>NaN</td>\n",
       "      <td>0.45888</td>\n",
       "      <td>NaN</td>\n",
       "      <td>463938.0</td>\n",
       "      <td>NaN</td>\n",
       "      <td>NaN</td>\n",
       "      <td>NaN</td>\n",
       "      <td>234576.9</td>\n",
       "    </tr>\n",
       "    <tr>\n",
       "      <th>30470</th>\n",
       "      <td>2015-06-30</td>\n",
       "      <td>43</td>\n",
       "      <td>28.0</td>\n",
       "      <td>1.0</td>\n",
       "      <td>9.0</td>\n",
       "      <td>1.0</td>\n",
       "      <td>1968.0</td>\n",
       "      <td>2.0</td>\n",
       "      <td>6.0</td>\n",
       "      <td>2.0</td>\n",
       "      <td>...</td>\n",
       "      <td>NaN</td>\n",
       "      <td>10805.0</td>\n",
       "      <td>NaN</td>\n",
       "      <td>0.45888</td>\n",
       "      <td>NaN</td>\n",
       "      <td>463938.0</td>\n",
       "      <td>NaN</td>\n",
       "      <td>NaN</td>\n",
       "      <td>NaN</td>\n",
       "      <td>234576.9</td>\n",
       "    </tr>\n",
       "  </tbody>\n",
       "</table>\n",
       "<p>30471 rows × 390 columns</p>\n",
       "</div>"
      ],
      "text/plain": [
       "        timestamp  full_sq  life_sq  floor  max_floor  material  build_year  \\\n",
       "0      2011-08-20       43     27.0    4.0        NaN       NaN         NaN   \n",
       "1      2011-08-23       34     19.0    3.0        NaN       NaN         NaN   \n",
       "2      2011-08-27       43     29.0    2.0        NaN       NaN         NaN   \n",
       "3      2011-09-01       89     50.0    9.0        NaN       NaN         NaN   \n",
       "4      2011-09-05       77     77.0    4.0        NaN       NaN         NaN   \n",
       "...           ...      ...      ...    ...        ...       ...         ...   \n",
       "30466  2015-06-30       44     27.0    7.0        9.0       1.0      1975.0   \n",
       "30467  2015-06-30       86     59.0    3.0        9.0       2.0      1935.0   \n",
       "30468  2015-06-30       45      NaN   10.0       20.0       1.0         NaN   \n",
       "30469  2015-06-30       64     32.0    5.0       15.0       1.0      2003.0   \n",
       "30470  2015-06-30       43     28.0    1.0        9.0       1.0      1968.0   \n",
       "\n",
       "       num_room  kitch_sq  state  ... provision_retail_space_modern_sqm  \\\n",
       "0           NaN       NaN    NaN  ...                             271.0   \n",
       "1           NaN       NaN    NaN  ...                             271.0   \n",
       "2           NaN       NaN    NaN  ...                             271.0   \n",
       "3           NaN       NaN    NaN  ...                             271.0   \n",
       "4           NaN       NaN    NaN  ...                             271.0   \n",
       "...         ...       ...    ...  ...                               ...   \n",
       "30466       2.0       6.0    3.0  ...                               NaN   \n",
       "30467       4.0      10.0    3.0  ...                               NaN   \n",
       "30468       1.0       1.0    1.0  ...                               NaN   \n",
       "30469       2.0      11.0    2.0  ...                               NaN   \n",
       "30470       2.0       6.0    2.0  ...                               NaN   \n",
       "\n",
       "      turnover_catering_per_cap  theaters_viewers_per_1000_cap  \\\n",
       "0                        6943.0                          565.0   \n",
       "1                        6943.0                          565.0   \n",
       "2                        6943.0                          565.0   \n",
       "3                        6943.0                          565.0   \n",
       "4                        6943.0                          565.0   \n",
       "...                         ...                            ...   \n",
       "30466                   10805.0                            NaN   \n",
       "30467                   10805.0                            NaN   \n",
       "30468                   10805.0                            NaN   \n",
       "30469                   10805.0                            NaN   \n",
       "30470                   10805.0                            NaN   \n",
       "\n",
       "       seats_theather_rfmin_per_100000_cap  museum_visitis_per_100_cap  \\\n",
       "0                                  0.45356                      1240.0   \n",
       "1                                  0.45356                      1240.0   \n",
       "2                                  0.45356                      1240.0   \n",
       "3                                  0.45356                      1240.0   \n",
       "4                                  0.45356                      1240.0   \n",
       "...                                    ...                         ...   \n",
       "30466                              0.45888                         NaN   \n",
       "30467                              0.45888                         NaN   \n",
       "30468                              0.45888                         NaN   \n",
       "30469                              0.45888                         NaN   \n",
       "30470                              0.45888                         NaN   \n",
       "\n",
       "       bandwidth_sports  population_reg_sports_share  \\\n",
       "0              269768.0                        22.37   \n",
       "1              269768.0                        22.37   \n",
       "2              269768.0                        22.37   \n",
       "3              269768.0                        22.37   \n",
       "4              269768.0                        22.37   \n",
       "...                 ...                          ...   \n",
       "30466          463938.0                          NaN   \n",
       "30467          463938.0                          NaN   \n",
       "30468          463938.0                          NaN   \n",
       "30469          463938.0                          NaN   \n",
       "30470          463938.0                          NaN   \n",
       "\n",
       "       students_reg_sports_share  apartment_build  apartment_fund_sqm  \n",
       "0                          64.12          23587.0            230310.0  \n",
       "1                          64.12          23587.0            230310.0  \n",
       "2                          64.12          23587.0            230310.0  \n",
       "3                          64.12          23587.0            230310.0  \n",
       "4                          64.12          23587.0            230310.0  \n",
       "...                          ...              ...                 ...  \n",
       "30466                        NaN              NaN            234576.9  \n",
       "30467                        NaN              NaN            234576.9  \n",
       "30468                        NaN              NaN            234576.9  \n",
       "30469                        NaN              NaN            234576.9  \n",
       "30470                        NaN              NaN            234576.9  \n",
       "\n",
       "[30471 rows x 390 columns]"
      ]
     },
     "execution_count": 3,
     "metadata": {},
     "output_type": "execute_result"
    }
   ],
   "source": [
    "### BEGIN Solution (do not delete this comment)\n",
    "\n",
    "data = pd.read_csv('data_fs.csv')\n",
    "data\n",
    "\n",
    "### END Solution (do not delete this comment)"
   ]
  },
  {
   "cell_type": "markdown",
   "id": "objective-working",
   "metadata": {
    "id": "objective-working"
   },
   "source": [
    "**1.1.2) preprocess the dataset by dropping the ```timestamp``` feature, filling ```NaN```s with 0, converting the categorical variables into dummy variables**"
   ]
  },
  {
   "cell_type": "code",
   "execution_count": 4,
   "id": "another-keyboard",
   "metadata": {
    "id": "another-keyboard"
   },
   "outputs": [],
   "source": [
    "### BEGIN Solution (do not delete this comment)\n",
    "\n",
    "df = data.drop(columns='timestamp')\n",
    "df.fillna(value=0., inplace=True)\n",
    "\n",
    "df.describe(include=object)\n",
    "cat_features = ['product_type', 'sub_area', 'culture_objects_top_25', 'thermal_power_plant_raion',\n",
    "                'incineration_raion', 'oil_chemistry_raion', 'radiation_raion', 'railroad_terminal_raion',\n",
    "                'big_market_raion', 'nuclear_reactor_raion', 'detention_facility_raion', 'water_1line',\n",
    "                'big_road1_1line', 'railroad_1line', 'ecology', 'child_on_acc_pre_school',\n",
    "                'modern_education_share', 'old_education_build_share']\n",
    "cat_data = pd.get_dummies(df.loc[:, cat_features], prefix=cat_features, drop_first=True)\n",
    "df.drop(columns=cat_features, inplace=True)\n",
    "df.loc[:, cat_data.columns] = cat_data\n",
    "\n",
    "### END Solution (do not delete this comment)"
   ]
  },
  {
   "cell_type": "markdown",
   "id": "dress-shanghai",
   "metadata": {
    "id": "dress-shanghai"
   },
   "source": [
    "**1.1.3) define ```x_train```, ```x_test```, ```y_train```, ```y_test```. The train-test split should be 70:30**\n"
   ]
  },
  {
   "cell_type": "code",
   "execution_count": 5,
   "id": "outdoor-runner",
   "metadata": {
    "id": "outdoor-runner"
   },
   "outputs": [],
   "source": [
    "### BEGIN Solution (do not delete this comment)\n",
    "\n",
    "X = df.drop(columns='price_doc')\n",
    "y = df.price_doc\n",
    "X_train, X_test, y_train, y_test = train_test_split(\n",
    "    X, y,\n",
    "    test_size=.3,\n",
    "    random_state=0xC0FFEE\n",
    ")\n",
    "\n",
    "### END Solution (do not delete this comment)"
   ]
  },
  {
   "cell_type": "markdown",
   "id": "engaging-ready",
   "metadata": {
    "id": "engaging-ready"
   },
   "source": [
    "\n",
    "**1.1.4) plot the histogram of y values. Note that the mean of these values is very high and the distribution of the values is far from normal. Create ```y_train_log``` and ```y_test_log``` by applying $log_{y}$. Now plot the new histogram of the obtained values. You should use these log values for the next subtasks.**   "
   ]
  },
  {
   "cell_type": "code",
   "execution_count": 6,
   "id": "inclusive-outreach",
   "metadata": {
    "colab": {
     "base_uri": "https://localhost:8080/",
     "height": 575
    },
    "id": "inclusive-outreach",
    "outputId": "6a70e6b1-b183-470a-a694-52e230c3da6b"
   },
   "outputs": [
    {
     "data": {
      "image/png": "[encoded data removed]",
      "text/plain": [
       "<Figure size 1152x504 with 2 Axes>"
      ]
     },
     "metadata": {
      "needs_background": "light"
     },
     "output_type": "display_data"
    },
    {
     "data": {
      "image/png": "[encoded data removed]",
      "text/plain": [
       "<Figure size 1152x504 with 2 Axes>"
      ]
     },
     "metadata": {
      "needs_background": "light"
     },
     "output_type": "display_data"
    }
   ],
   "source": [
    "### BEGIN Solution (do not delete this comment)\n",
    "\n",
    "_, axes = plt.subplots(ncols=2, nrows=1, figsize=(16, 7))\n",
    "\n",
    "axes[0].hist(y_train, bins='auto')\n",
    "axes[0].set_title('y_train histogram')\n",
    "\n",
    "axes[1].hist(y_test, bins='auto')\n",
    "axes[1].set_title('y_test histogram')\n",
    "\n",
    "y_train_log = np.log(y_train)\n",
    "y_test_log = np.log(y_test)\n",
    "\n",
    "_, axes = plt.subplots(ncols=2, nrows=1, figsize=(16, 7))\n",
    "\n",
    "axes[0].hist(y_train_log, bins='auto')\n",
    "axes[0].set_title('y_train_log histogram')\n",
    "\n",
    "axes[1].hist(y_test_log, bins='auto')\n",
    "axes[1].set_title('y_test_log histogram');\n",
    "\n",
    "### END Solution (do not delete this comment)"
   ]
  },
  {
   "cell_type": "markdown",
   "id": "noticed-drunk",
   "metadata": {
    "id": "noticed-drunk"
   },
   "source": [
    "**1.1.5) print the number of features in the created ```x_train``` and ```x_test``` datasets. Answer the question: do you think all of these features are relevant for the adequate price prediction?**\n"
   ]
  },
  {
   "cell_type": "code",
   "execution_count": 7,
   "id": "strategic-spending",
   "metadata": {
    "colab": {
     "base_uri": "https://localhost:8080/"
    },
    "id": "strategic-spending",
    "outputId": "60227791-3f62-4d31-cbcd-a5a8aada6763"
   },
   "outputs": [
    {
     "data": {
      "text/plain": [
       "(542, 542)"
      ]
     },
     "execution_count": 7,
     "metadata": {},
     "output_type": "execute_result"
    }
   ],
   "source": [
    "### BEGIN Solution (do not delete this comment)\n",
    "\n",
    "X_train.shape[1], X_test.shape[1]\n",
    "\n",
    "### END Solution (do not delete this comment)"
   ]
  },
  {
   "cell_type": "markdown",
   "id": "restricted-anchor",
   "metadata": {
    "id": "restricted-anchor"
   },
   "source": [
    "**Your text answer (do not delete this comment)**:\n",
    "\n",
    "No, not all of them. Of course, all of the features are important in one way or another, but some of the features have much more weight than the others, so that the least important features will not affect the solution in any way."
   ]
  },
  {
   "cell_type": "markdown",
   "id": "endangered-mineral",
   "metadata": {
    "id": "endangered-mineral"
   },
   "source": [
    "**1.1.6) use random forest to find the importance of the features. Plot the histogram of the importances.**"
   ]
  },
  {
   "cell_type": "code",
   "execution_count": 8,
   "id": "residential-tongue",
   "metadata": {
    "colab": {
     "base_uri": "https://localhost:8080/",
     "height": 282
    },
    "id": "residential-tongue",
    "outputId": "3ed70854-fddc-439f-eef5-542e3de192e2"
   },
   "outputs": [
    {
     "data": {
      "image/png": "[encoded data removed]",
      "text/plain": [
       "<Figure size 432x288 with 1 Axes>"
      ]
     },
     "metadata": {
      "needs_background": "light"
     },
     "output_type": "display_data"
    }
   ],
   "source": [
    "### BEGIN Solution (do not delete this comment)\n",
    "\n",
    "clf = RandomForestRegressor(n_jobs=-1, random_state=0xC0FFEE)\n",
    "clf.fit(X_train, y_train_log)\n",
    "fi = pd.Series(clf.feature_importances_, index=X_train.columns).sort_values(ascending=False)\n",
    "\n",
    "fi.plot(kind='hist', bins=50)\n",
    "plt.title('feature importances');\n",
    "\n",
    "### END Solution (do not delete this comment)"
   ]
  },
  {
   "cell_type": "markdown",
   "id": "ethical-firmware",
   "metadata": {
    "id": "ethical-firmware"
   },
   "source": [
    "**1.1.7) print the names of the 20 most important features**"
   ]
  },
  {
   "cell_type": "code",
   "execution_count": 9,
   "id": "amazing-marriage",
   "metadata": {
    "colab": {
     "base_uri": "https://localhost:8080/"
    },
    "id": "amazing-marriage",
    "outputId": "53ab5987-aa41-43f6-816e-37580d1cff79"
   },
   "outputs": [
    {
     "data": {
      "text/plain": [
       "full_sq                       0.238112\n",
       "num_room                      0.027107\n",
       "cafe_count_2000               0.026206\n",
       "sport_count_3000              0.017080\n",
       "cafe_count_3000               0.011731\n",
       "cafe_count_5000_price_2500    0.011061\n",
       "metro_km_avto                 0.008722\n",
       "micex_cbi_tr                  0.008257\n",
       "kindergarten_km               0.007722\n",
       "brent                         0.007346\n",
       "exhibition_km                 0.007301\n",
       "cafe_count_5000               0.007299\n",
       "public_healthcare_km          0.007027\n",
       "micex                         0.006975\n",
       "big_road1_km                  0.006776\n",
       "floor                         0.006617\n",
       "metro_min_avto                0.006199\n",
       "eurrub                        0.006126\n",
       "workplaces_km                 0.006114\n",
       "ttk_km                        0.006078\n",
       "dtype: float64"
      ]
     },
     "execution_count": 9,
     "metadata": {},
     "output_type": "execute_result"
    }
   ],
   "source": [
    "### BEGIN Solution (do not delete this comment)\n",
    "\n",
    "fi.iloc[:20]\n",
    "\n",
    "### END Solution (do not delete this comment)"
   ]
  },
  {
   "cell_type": "markdown",
   "id": "threaded-ivory",
   "metadata": {
    "id": "threaded-ivory"
   },
   "source": [
    "<br>"
   ]
  },
  {
   "cell_type": "markdown",
   "id": "little-toddler",
   "metadata": {
    "id": "little-toddler"
   },
   "source": [
    "### Subproblem 1.2. Training models on the most important features (1 point)"
   ]
  },
  {
   "cell_type": "markdown",
   "id": "vietnamese-patrick",
   "metadata": {
    "id": "vietnamese-patrick"
   },
   "source": [
    "In this subproblem, you will train several ML models on the found 20 most important features: train **Linear Regression**,  **Ridge regression**, **Random forest**,  **DecisionTree** and evaluate their performance using the Root Mean Squared Logarithmic Error (RMSLE) on both train/test sets. \n",
    "\n",
    "You will have to repeat the same actions in the next tasks too, so we recommend to implement\n",
    "a dedicated function for comparisons, which\n",
    "1. on input takes a training dataset `(X_train, y_train)` and a test sample `(X_test, y_test)`;\n",
    "2. it trains **all of the listed models** on the `(X_train, y_train)` sample;\n",
    "3. it computes and returns a table with the RMSLE score of each fitted model on the train and test datasets."
   ]
  },
  {
   "cell_type": "markdown",
   "id": "stupid-principle",
   "metadata": {
    "id": "stupid-principle"
   },
   "source": [
    "**1.2.1) Implement the function described above**"
   ]
  },
  {
   "cell_type": "code",
   "execution_count": 10,
   "id": "paperback-uniform",
   "metadata": {
    "id": "paperback-uniform"
   },
   "outputs": [],
   "source": [
    "### BEGIN Solution (do not delete this comment)\n",
    "\n",
    "def compare_clfs(X_train, y_train, X_test, y_test):\n",
    "    clfs = [\n",
    "        LinearRegression(n_jobs=-1),\n",
    "        Ridge(random_state=0xC0FFEE),\n",
    "        RandomForestRegressor(n_jobs=-1, random_state=0xC0FFEE),\n",
    "        DecisionTreeRegressor(random_state=0xC0FFEE),\n",
    "    ]\n",
    "    \n",
    "    train_errors = []\n",
    "    test_errors = []\n",
    "    \n",
    "    for clf in clfs:\n",
    "        clf.fit(X_train, y_train)\n",
    "        \n",
    "        train_error = mean_squared_log_error(y_train, clf.predict(X_train))\n",
    "        test_error = mean_squared_log_error(y_test, clf.predict(X_test))\n",
    "        \n",
    "        train_errors.append(train_error)\n",
    "        test_errors.append(test_error)\n",
    "    \n",
    "    return pd.DataFrame(data={\n",
    "        'Methods': ['Linear Regression', 'Ridge', 'Random Forest', 'Decision Tree'],\n",
    "        'Train error': train_errors,\n",
    "        'Test error': test_errors,\n",
    "    })\n",
    "\n",
    "### END Solution (do not delete this comment)"
   ]
  },
  {
   "cell_type": "markdown",
   "id": "demographic-honolulu",
   "metadata": {
    "id": "demographic-honolulu"
   },
   "source": [
    "**1.2.2) Apply the implemented function to our dataset (use only the 20 most important features)**"
   ]
  },
  {
   "cell_type": "code",
   "execution_count": 11,
   "id": "8ae5af8c",
   "metadata": {},
   "outputs": [
    {
     "data": {
      "text/html": [
       "<div>\n",
       "<style scoped>\n",
       "    .dataframe tbody tr th:only-of-type {\n",
       "        vertical-align: middle;\n",
       "    }\n",
       "\n",
       "    .dataframe tbody tr th {\n",
       "        vertical-align: top;\n",
       "    }\n",
       "\n",
       "    .dataframe thead th {\n",
       "        text-align: right;\n",
       "    }\n",
       "</style>\n",
       "<table border=\"1\" class=\"dataframe\">\n",
       "  <thead>\n",
       "    <tr style=\"text-align: right;\">\n",
       "      <th></th>\n",
       "      <th>Methods</th>\n",
       "      <th>Train error</th>\n",
       "      <th>Test error</th>\n",
       "    </tr>\n",
       "  </thead>\n",
       "  <tbody>\n",
       "    <tr>\n",
       "      <th>0</th>\n",
       "      <td>Linear Regression</td>\n",
       "      <td>1.027227e-03</td>\n",
       "      <td>0.001086</td>\n",
       "    </tr>\n",
       "    <tr>\n",
       "      <th>1</th>\n",
       "      <td>Ridge</td>\n",
       "      <td>1.027226e-03</td>\n",
       "      <td>0.001086</td>\n",
       "    </tr>\n",
       "    <tr>\n",
       "      <th>2</th>\n",
       "      <td>Random Forest</td>\n",
       "      <td>1.230055e-04</td>\n",
       "      <td>0.000913</td>\n",
       "    </tr>\n",
       "    <tr>\n",
       "      <th>3</th>\n",
       "      <td>Decision Tree</td>\n",
       "      <td>1.360209e-09</td>\n",
       "      <td>0.001754</td>\n",
       "    </tr>\n",
       "  </tbody>\n",
       "</table>\n",
       "</div>"
      ],
      "text/plain": [
       "             Methods   Train error  Test error\n",
       "0  Linear Regression  1.027227e-03    0.001086\n",
       "1              Ridge  1.027226e-03    0.001086\n",
       "2      Random Forest  1.230055e-04    0.000913\n",
       "3      Decision Tree  1.360209e-09    0.001754"
      ]
     },
     "execution_count": 11,
     "metadata": {},
     "output_type": "execute_result"
    }
   ],
   "source": [
    "### BEGIN Solution\n",
    "\n",
    "top20 = fi.iloc[:20].index\n",
    "X_train_20 = X_train.loc[:, top20]\n",
    "X_test_20 = X_test.loc[:, top20]\n",
    "\n",
    "compare_clfs(X_train_20, y_train_log, X_test_20, y_test_log)\n",
    "\n",
    "### END Solution"
   ]
  },
  {
   "cell_type": "markdown",
   "id": "6lSOGA4-7RSx",
   "metadata": {
    "id": "6lSOGA4-7RSx"
   },
   "source": [
    "<br>"
   ]
  },
  {
   "cell_type": "markdown",
   "id": "stock-jewel",
   "metadata": {
    "id": "stock-jewel"
   },
   "source": [
    "### Subproblem 1.3. Forward-backward methods (1 point)\n",
    "In the subproblems above, we have relied on the feature importances found by the random forest method. The main goal of this subproblem is to find feature importances by applying the forward-backward methods: the main idea is to add or remove features and compute how this removal influences the value of the loss function or some other criteria.\n",
    "\n",
    "The decision about adding or deleting a feature may be made based on:\n",
    "\n",
    "- AIC\n",
    "- BIC\n",
    "- validation error\n",
    "- Mallows $C_p$\n",
    "- sklearn's `estimator.score()`"
   ]
  },
  {
   "cell_type": "markdown",
   "id": "southern-closer",
   "metadata": {
    "id": "southern-closer"
   },
   "source": [
    "In subtasks, 1.3.1 - 1.3.3, implement the following greedy feature selection algorithm with early stopping using the mean of the RMSLE scores achieved on the 3-fold cross-validation. Please bear in mind that **the lower** RMSLE (`mean_squared_log_error`) is, **the higher the model \"quality\" is** and look up `cross_val_score(...)` peculiarities in [scikit's manual](https://scikit-learn.org/stable/documentation.html) for more information.\n",
    "\n",
    "```python\n",
    "# Initialize with an empty list of features.\n",
    "list_of_best_features = []\n",
    "\n",
    "while round < n_rounds:\n",
    "    round = round + 1\n",
    "    \n",
    "    if no_more_features:\n",
    "        # end loop\n",
    "\n",
    "    # Iterate over currently *unused* features and use $k$-fold \n",
    "    # . `cross_val_score` to measure model \"quality\".\n",
    "    compute_quality_with_each_new_unused_feature(...)\n",
    "\n",
    "    # **Add** the feature that gives the highest \"quality\" of the model.\n",
    "    pick_and_add_the_best_feature(...)\n",
    "\n",
    "    if model_quality_has_increased_since_last_round:\n",
    "        round = 0\n",
    "\n",
    "return list_of_best_features\n",
    "```"
   ]
  },
  {
   "cell_type": "markdown",
   "id": "suffering-italy",
   "metadata": {
    "id": "suffering-italy"
   },
   "source": [
    "**1.3.1) In the cell below, you have to implement a function that would iterate over a list of features and use $k$-fold `cross_val_score` to measure the model's \"quality\".** "
   ]
  },
  {
   "cell_type": "code",
   "execution_count": 12,
   "id": "17c1426d",
   "metadata": {
    "id": "caroline-state"
   },
   "outputs": [],
   "source": [
    "# from sklearn.metrics import make_scorer\n",
    "\n",
    "def selection_step(model, X, y, used_features=(), cv=3):\n",
    "    \"\"\"\n",
    "    Parameters\n",
    "    ==========\n",
    "        X: ndarray - training inputs\n",
    "        y: ndarray - training targets\n",
    "        used_features: - list of features\n",
    "        cv: int - number of folds\n",
    "\n",
    "    Returns\n",
    "    =======\n",
    "        scores - dictionary of scores\n",
    "    \"\"\"\n",
    "    \n",
    "    scores = {}\n",
    "    \n",
    "    ### BEGIN Solution\n",
    "    \n",
    "    used_features = list(used_features)\n",
    "    \n",
    "    for feature in X.columns:\n",
    "        if feature not in used_features:\n",
    "            scores[feature] = np.mean(cross_val_score(\n",
    "                model,\n",
    "                X.loc[:, used_features + [feature,]],\n",
    "                y,\n",
    "                scoring='neg_mean_squared_log_error',\n",
    "                cv=cv,\n",
    "                n_jobs=-1,\n",
    "            ))  # TODO: how to use RMSLE?\n",
    "\n",
    "    ### END Solution\n",
    "\n",
    "    return scores"
   ]
  },
  {
   "cell_type": "markdown",
   "id": "laughing-patio",
   "metadata": {
    "id": "laughing-patio"
   },
   "source": [
    "**1.3.2) Implement a forward greedy feature selection function (the one described in the pseudocode in subtask 1 above) that would**\n",
    "\n",
    "**- compute the model's \"quality\" over the currently *unused* features**\n",
    "\n",
    "**- find the feature, which has given the best score and add it to the list of the currently *used* features**\n",
    "\n",
    "**- if the model's quality has increased since the last round, add this feature to the list of the best features and  print the best score and the current best features list**\n",
    "\n",
    "**Do not forget to implement the early stopping.**"
   ]
  },
  {
   "cell_type": "code",
   "execution_count": 13,
   "id": "pressed-worse",
   "metadata": {
    "id": "pressed-worse"
   },
   "outputs": [],
   "source": [
    "def forward_steps(X, y, n_rounds, model):\n",
    "    \"\"\"\n",
    "    Parameters\n",
    "    ==========\n",
    "        X: ndarray - training inputs\n",
    "        y: ndarray - training targets\n",
    "        n_rounds: int - early stop when score doesn't increase n_rounds\n",
    "        model: sklearn model\n",
    "\n",
    "    Returns\n",
    "    =======\n",
    "        feat_best_list - list of features\n",
    "    \"\"\"\n",
    "    \n",
    "    feat_best_list = []\n",
    "\n",
    "    ### BEGIN Solution\n",
    "\n",
    "    n_round = 0\n",
    "    last_score = -np.inf\n",
    "    \n",
    "    while n_round < n_rounds:\n",
    "        n_round += 1\n",
    "        \n",
    "        if len(feat_best_list) == X.shape[1]:\n",
    "            break\n",
    "            \n",
    "        scores = selection_step(model, X, y, used_features=feat_best_list)\n",
    "        best_feature = max(scores, key=lambda x: scores[x])\n",
    "        best_score = scores[best_feature]\n",
    "        \n",
    "        if best_score > last_score:\n",
    "            n_round = 0\n",
    "            last_score = best_score\n",
    "            feat_best_list.append(best_feature)\n",
    "            \n",
    "            print('best_score:', best_score)\n",
    "            print('current best features list:', feat_best_list)\n",
    "    \n",
    "    ### END Solution\n",
    "    \n",
    "    return feat_best_list\n"
   ]
  },
  {
   "cell_type": "markdown",
   "id": "geographic-holly",
   "metadata": {
    "id": "geographic-holly"
   },
   "source": [
    "**1.3.3) Use the function implemented above + DecisionTreeRegressor to get the best features according to this algorithm. (HINT: Use ```n_rounds = 2```)**"
   ]
  },
  {
   "cell_type": "code",
   "execution_count": 14,
   "id": "hazardous-retirement",
   "metadata": {
    "colab": {
     "base_uri": "https://localhost:8080/"
    },
    "id": "hazardous-retirement",
    "outputId": "81502f2d-f6fa-4497-d569-58605bfff430"
   },
   "outputs": [
    {
     "name": "stdout",
     "output_type": "stream",
     "text": [
      "best_score: -0.0010397992881529471\n",
      "current best features list: ['full_sq']\n",
      "best_score: -0.0009608180390991961\n",
      "current best features list: ['full_sq', 'ecology_no data']\n",
      "best_score: -0.0009471822415440546\n",
      "current best features list: ['full_sq', 'ecology_no data', 'sub_area_Nekrasovka']\n",
      "best_score: -0.0009409601439035036\n",
      "current best features list: ['full_sq', 'ecology_no data', 'sub_area_Nekrasovka', 'sub_area_Poselenie Vnukovskoe']\n",
      "best_score: -0.0009376675033407988\n",
      "current best features list: ['full_sq', 'ecology_no data', 'sub_area_Nekrasovka', 'sub_area_Poselenie Vnukovskoe', 'sub_area_Poselenie Novofedorovskoe']\n",
      "best_score: -0.0009350533674120698\n",
      "current best features list: ['full_sq', 'ecology_no data', 'sub_area_Nekrasovka', 'sub_area_Poselenie Vnukovskoe', 'sub_area_Poselenie Novofedorovskoe', 'sub_area_Hamovniki']\n",
      "best_score: -0.0009319601699080596\n",
      "current best features list: ['full_sq', 'ecology_no data', 'sub_area_Nekrasovka', 'sub_area_Poselenie Vnukovskoe', 'sub_area_Poselenie Novofedorovskoe', 'sub_area_Hamovniki', 'mosque_count_3000']\n",
      "best_score: -0.0009295441728488387\n",
      "current best features list: ['full_sq', 'ecology_no data', 'sub_area_Nekrasovka', 'sub_area_Poselenie Vnukovskoe', 'sub_area_Poselenie Novofedorovskoe', 'sub_area_Hamovniki', 'mosque_count_3000', 'sub_area_Poselenie Filimonkovskoe']\n",
      "best_score: -0.0009272788324987311\n",
      "current best features list: ['full_sq', 'ecology_no data', 'sub_area_Nekrasovka', 'sub_area_Poselenie Vnukovskoe', 'sub_area_Poselenie Novofedorovskoe', 'sub_area_Hamovniki', 'mosque_count_3000', 'sub_area_Poselenie Filimonkovskoe', 'sub_area_Zapadnoe Degunino']\n",
      "best_score: -0.000925739944224364\n",
      "current best features list: ['full_sq', 'ecology_no data', 'sub_area_Nekrasovka', 'sub_area_Poselenie Vnukovskoe', 'sub_area_Poselenie Novofedorovskoe', 'sub_area_Hamovniki', 'mosque_count_3000', 'sub_area_Poselenie Filimonkovskoe', 'sub_area_Zapadnoe Degunino', 'sub_area_Nagatinskij Zaton']\n",
      "best_score: -0.000924409006399029\n",
      "current best features list: ['full_sq', 'ecology_no data', 'sub_area_Nekrasovka', 'sub_area_Poselenie Vnukovskoe', 'sub_area_Poselenie Novofedorovskoe', 'sub_area_Hamovniki', 'mosque_count_3000', 'sub_area_Poselenie Filimonkovskoe', 'sub_area_Zapadnoe Degunino', 'sub_area_Nagatinskij Zaton', 'sub_area_Severnoe Butovo']\n",
      "best_score: -0.0009232936384378146\n",
      "current best features list: ['full_sq', 'ecology_no data', 'sub_area_Nekrasovka', 'sub_area_Poselenie Vnukovskoe', 'sub_area_Poselenie Novofedorovskoe', 'sub_area_Hamovniki', 'mosque_count_3000', 'sub_area_Poselenie Filimonkovskoe', 'sub_area_Zapadnoe Degunino', 'sub_area_Nagatinskij Zaton', 'sub_area_Severnoe Butovo', 'sub_area_Solncevo']\n",
      "best_score: -0.0009220608606227066\n",
      "current best features list: ['full_sq', 'ecology_no data', 'sub_area_Nekrasovka', 'sub_area_Poselenie Vnukovskoe', 'sub_area_Poselenie Novofedorovskoe', 'sub_area_Hamovniki', 'mosque_count_3000', 'sub_area_Poselenie Filimonkovskoe', 'sub_area_Zapadnoe Degunino', 'sub_area_Nagatinskij Zaton', 'sub_area_Severnoe Butovo', 'sub_area_Solncevo', 'sub_area_Basmannoe']\n",
      "best_score: -0.0009214575534797631\n",
      "current best features list: ['full_sq', 'ecology_no data', 'sub_area_Nekrasovka', 'sub_area_Poselenie Vnukovskoe', 'sub_area_Poselenie Novofedorovskoe', 'sub_area_Hamovniki', 'mosque_count_3000', 'sub_area_Poselenie Filimonkovskoe', 'sub_area_Zapadnoe Degunino', 'sub_area_Nagatinskij Zaton', 'sub_area_Severnoe Butovo', 'sub_area_Solncevo', 'sub_area_Basmannoe', 'sub_area_Poselenie Moskovskij']\n",
      "best_score: -0.0009210719415055405\n",
      "current best features list: ['full_sq', 'ecology_no data', 'sub_area_Nekrasovka', 'sub_area_Poselenie Vnukovskoe', 'sub_area_Poselenie Novofedorovskoe', 'sub_area_Hamovniki', 'mosque_count_3000', 'sub_area_Poselenie Filimonkovskoe', 'sub_area_Zapadnoe Degunino', 'sub_area_Nagatinskij Zaton', 'sub_area_Severnoe Butovo', 'sub_area_Solncevo', 'sub_area_Basmannoe', 'sub_area_Poselenie Moskovskij', 'sub_area_Krylatskoe']\n",
      "best_score: -0.0009208996994389669\n",
      "current best features list: ['full_sq', 'ecology_no data', 'sub_area_Nekrasovka', 'sub_area_Poselenie Vnukovskoe', 'sub_area_Poselenie Novofedorovskoe', 'sub_area_Hamovniki', 'mosque_count_3000', 'sub_area_Poselenie Filimonkovskoe', 'sub_area_Zapadnoe Degunino', 'sub_area_Nagatinskij Zaton', 'sub_area_Severnoe Butovo', 'sub_area_Solncevo', 'sub_area_Basmannoe', 'sub_area_Poselenie Moskovskij', 'sub_area_Krylatskoe', 'sub_area_Juzhnoportovoe']\n",
      "best_score: -0.0009207312327879079\n",
      "current best features list: ['full_sq', 'ecology_no data', 'sub_area_Nekrasovka', 'sub_area_Poselenie Vnukovskoe', 'sub_area_Poselenie Novofedorovskoe', 'sub_area_Hamovniki', 'mosque_count_3000', 'sub_area_Poselenie Filimonkovskoe', 'sub_area_Zapadnoe Degunino', 'sub_area_Nagatinskij Zaton', 'sub_area_Severnoe Butovo', 'sub_area_Solncevo', 'sub_area_Basmannoe', 'sub_area_Poselenie Moskovskij', 'sub_area_Krylatskoe', 'sub_area_Juzhnoportovoe', 'sub_area_Poselenie Rogovskoe']\n",
      "best_score: -0.0009203270332261951\n",
      "current best features list: ['full_sq', 'ecology_no data', 'sub_area_Nekrasovka', 'sub_area_Poselenie Vnukovskoe', 'sub_area_Poselenie Novofedorovskoe', 'sub_area_Hamovniki', 'mosque_count_3000', 'sub_area_Poselenie Filimonkovskoe', 'sub_area_Zapadnoe Degunino', 'sub_area_Nagatinskij Zaton', 'sub_area_Severnoe Butovo', 'sub_area_Solncevo', 'sub_area_Basmannoe', 'sub_area_Poselenie Moskovskij', 'sub_area_Krylatskoe', 'sub_area_Juzhnoportovoe', 'sub_area_Poselenie Rogovskoe', \"sub_area_Altuf'evskoe\"]\n",
      "best_score: -0.0009197034473670283\n",
      "current best features list: ['full_sq', 'ecology_no data', 'sub_area_Nekrasovka', 'sub_area_Poselenie Vnukovskoe', 'sub_area_Poselenie Novofedorovskoe', 'sub_area_Hamovniki', 'mosque_count_3000', 'sub_area_Poselenie Filimonkovskoe', 'sub_area_Zapadnoe Degunino', 'sub_area_Nagatinskij Zaton', 'sub_area_Severnoe Butovo', 'sub_area_Solncevo', 'sub_area_Basmannoe', 'sub_area_Poselenie Moskovskij', 'sub_area_Krylatskoe', 'sub_area_Juzhnoportovoe', 'sub_area_Poselenie Rogovskoe', \"sub_area_Altuf'evskoe\", \"sub_area_Sokol'niki\"]\n"
     ]
    }
   ],
   "source": [
    "### BEGIN Solution\n",
    "\n",
    "best_features = forward_steps(X_train, y_train_log, 2, DecisionTreeRegressor(random_state=0xC0FFEE))\n",
    "\n",
    "### END Solution"
   ]
  },
  {
   "cell_type": "markdown",
   "id": "contrary-packet",
   "metadata": {
    "id": "contrary-packet"
   },
   "source": [
    "**1.3.4) Use Linear Regression, Ridge regression, Random forest and DecisionTree to get the RMSLE scores using these features. Remember the function you wrote earlier.**"
   ]
  },
  {
   "cell_type": "code",
   "execution_count": 15,
   "id": "graduate-tooth",
   "metadata": {
    "colab": {
     "base_uri": "https://localhost:8080/",
     "height": 221
    },
    "id": "graduate-tooth",
    "outputId": "72812408-0c21-4229-ff2d-f29243966f3d"
   },
   "outputs": [
    {
     "data": {
      "text/html": [
       "<div>\n",
       "<style scoped>\n",
       "    .dataframe tbody tr th:only-of-type {\n",
       "        vertical-align: middle;\n",
       "    }\n",
       "\n",
       "    .dataframe tbody tr th {\n",
       "        vertical-align: top;\n",
       "    }\n",
       "\n",
       "    .dataframe thead th {\n",
       "        text-align: right;\n",
       "    }\n",
       "</style>\n",
       "<table border=\"1\" class=\"dataframe\">\n",
       "  <thead>\n",
       "    <tr style=\"text-align: right;\">\n",
       "      <th></th>\n",
       "      <th>Methods</th>\n",
       "      <th>Train error</th>\n",
       "      <th>Test error</th>\n",
       "    </tr>\n",
       "  </thead>\n",
       "  <tbody>\n",
       "    <tr>\n",
       "      <th>0</th>\n",
       "      <td>Linear Regression</td>\n",
       "      <td>0.001130</td>\n",
       "      <td>0.001179</td>\n",
       "    </tr>\n",
       "    <tr>\n",
       "      <th>1</th>\n",
       "      <td>Ridge</td>\n",
       "      <td>0.001130</td>\n",
       "      <td>0.001179</td>\n",
       "    </tr>\n",
       "    <tr>\n",
       "      <th>2</th>\n",
       "      <td>Random Forest</td>\n",
       "      <td>0.000837</td>\n",
       "      <td>0.000985</td>\n",
       "    </tr>\n",
       "    <tr>\n",
       "      <th>3</th>\n",
       "      <td>Decision Tree</td>\n",
       "      <td>0.000834</td>\n",
       "      <td>0.000999</td>\n",
       "    </tr>\n",
       "  </tbody>\n",
       "</table>\n",
       "</div>"
      ],
      "text/plain": [
       "             Methods  Train error  Test error\n",
       "0  Linear Regression     0.001130    0.001179\n",
       "1              Ridge     0.001130    0.001179\n",
       "2      Random Forest     0.000837    0.000985\n",
       "3      Decision Tree     0.000834    0.000999"
      ]
     },
     "execution_count": 15,
     "metadata": {},
     "output_type": "execute_result"
    }
   ],
   "source": [
    "### BEGIN Solution\n",
    "\n",
    "compare_clfs(X_train.loc[:, best_features], y_train_log, X_test.loc[:, best_features], y_test_log)\n",
    "\n",
    "### END Solution"
   ]
  },
  {
   "cell_type": "markdown",
   "id": "infinite-navigation",
   "metadata": {
    "id": "infinite-navigation"
   },
   "source": [
    "<br>"
   ]
  },
  {
   "cell_type": "markdown",
   "id": "individual-rendering",
   "metadata": {
    "id": "individual-rendering"
   },
   "source": [
    "## Task 2. Multi-Class Classification Strategies (1 point)\n",
    "In this task, you will deal with the multiclass classification problem for the Glass Classification Data. Let's load the dataset."
   ]
  },
  {
   "cell_type": "code",
   "execution_count": 16,
   "id": "technical-trader",
   "metadata": {
    "colab": {
     "base_uri": "https://localhost:8080/",
     "height": 142
    },
    "id": "technical-trader",
    "outputId": "91043ffe-6127-441b-a6ae-58f111768d40"
   },
   "outputs": [
    {
     "data": {
      "text/html": [
       "<div>\n",
       "<style scoped>\n",
       "    .dataframe tbody tr th:only-of-type {\n",
       "        vertical-align: middle;\n",
       "    }\n",
       "\n",
       "    .dataframe tbody tr th {\n",
       "        vertical-align: top;\n",
       "    }\n",
       "\n",
       "    .dataframe thead th {\n",
       "        text-align: right;\n",
       "    }\n",
       "</style>\n",
       "<table border=\"1\" class=\"dataframe\">\n",
       "  <thead>\n",
       "    <tr style=\"text-align: right;\">\n",
       "      <th></th>\n",
       "      <th>RI</th>\n",
       "      <th>Na</th>\n",
       "      <th>Mg</th>\n",
       "      <th>Al</th>\n",
       "      <th>Si</th>\n",
       "      <th>K</th>\n",
       "      <th>Ca</th>\n",
       "      <th>Ba</th>\n",
       "      <th>Fe</th>\n",
       "      <th>Type</th>\n",
       "    </tr>\n",
       "  </thead>\n",
       "  <tbody>\n",
       "    <tr>\n",
       "      <th>182</th>\n",
       "      <td>1.51916</td>\n",
       "      <td>14.15</td>\n",
       "      <td>0.00</td>\n",
       "      <td>2.09</td>\n",
       "      <td>72.74</td>\n",
       "      <td>0.00</td>\n",
       "      <td>10.88</td>\n",
       "      <td>0.00</td>\n",
       "      <td>0.00</td>\n",
       "      <td>6</td>\n",
       "    </tr>\n",
       "    <tr>\n",
       "      <th>128</th>\n",
       "      <td>1.52068</td>\n",
       "      <td>13.55</td>\n",
       "      <td>2.09</td>\n",
       "      <td>1.67</td>\n",
       "      <td>72.18</td>\n",
       "      <td>0.53</td>\n",
       "      <td>9.57</td>\n",
       "      <td>0.27</td>\n",
       "      <td>0.17</td>\n",
       "      <td>2</td>\n",
       "    </tr>\n",
       "    <tr>\n",
       "      <th>197</th>\n",
       "      <td>1.51727</td>\n",
       "      <td>14.70</td>\n",
       "      <td>0.00</td>\n",
       "      <td>2.34</td>\n",
       "      <td>73.28</td>\n",
       "      <td>0.00</td>\n",
       "      <td>8.95</td>\n",
       "      <td>0.66</td>\n",
       "      <td>0.00</td>\n",
       "      <td>7</td>\n",
       "    </tr>\n",
       "  </tbody>\n",
       "</table>\n",
       "</div>"
      ],
      "text/plain": [
       "          RI     Na    Mg    Al     Si     K     Ca    Ba    Fe  Type\n",
       "182  1.51916  14.15  0.00  2.09  72.74  0.00  10.88  0.00  0.00     6\n",
       "128  1.52068  13.55  2.09  1.67  72.18  0.53   9.57  0.27  0.17     2\n",
       "197  1.51727  14.70  0.00  2.34  73.28  0.00   8.95  0.66  0.00     7"
      ]
     },
     "execution_count": 16,
     "metadata": {},
     "output_type": "execute_result"
    }
   ],
   "source": [
    "data = pd.read_csv('glass.csv')\n",
    "X, y = data.drop('Type', axis=1), data.Type\n",
    "data.sample(3)"
   ]
  },
  {
   "cell_type": "markdown",
   "id": "flying-region",
   "metadata": {
    "id": "flying-region"
   },
   "source": [
    "The features of each glass object correspond to the fraction of the particular chemical element in the object. The target variable corresponds to the type of glass (6 classes).\n",
    "\n",
    "In this problem, you have to empirically compare the time complexity and performance of several multiclass labeling strategies for different algorithms. You must consider the following algorithms:\n",
    "* Single Decision Tree (depth 7)\n",
    "* Medium Random Forest (100 trees of depth 3)\n",
    "* KNearestNeighbors (5 neighbors)\n",
    "* Logistic Regression\n",
    "\n",
    "Note that all these algorithms by default support **multiclass labeling**. Nevertheless, we want you to compare this approach with **OneVSRest** and **OneVSOne** approaches applied to these algorithms. More precisely, for every pair (algorithm, approach) you are to perform a 5-fold cross-validation on the data and output the validation score and the computation time in the **table** form. Please note that you also have to choose the metric to optimize during CV (e.g. accuracy, balanced accuracy) on your own. \n",
    "\n",
    "After that, you are to answer the following questions:\n",
    "* Which metric did you choose to optimize during cross-validation and why? Explain\n",
    "* For which algorithms the usage of OneVSRest/OneVSOne approach provides significantly better performance without a significant increase in computation time?"
   ]
  },
  {
   "cell_type": "code",
   "execution_count": 17,
   "id": "authentic-slope",
   "metadata": {
    "colab": {
     "base_uri": "https://localhost:8080/",
     "height": 301
    },
    "id": "authentic-slope",
    "outputId": "5421c6dc-461c-4d7e-c472-aaf96785958a"
   },
   "outputs": [
    {
     "name": "stdout",
     "output_type": "stream",
     "text": [
      "Cross Validation Scores\n"
     ]
    },
    {
     "data": {
      "text/html": [
       "<div>\n",
       "<style scoped>\n",
       "    .dataframe tbody tr th:only-of-type {\n",
       "        vertical-align: middle;\n",
       "    }\n",
       "\n",
       "    .dataframe tbody tr th {\n",
       "        vertical-align: top;\n",
       "    }\n",
       "\n",
       "    .dataframe thead th {\n",
       "        text-align: right;\n",
       "    }\n",
       "</style>\n",
       "<table border=\"1\" class=\"dataframe\">\n",
       "  <thead>\n",
       "    <tr style=\"text-align: right;\">\n",
       "      <th></th>\n",
       "      <th>Logistic</th>\n",
       "      <th>Random Forest</th>\n",
       "      <th>K Nearest Neighbors</th>\n",
       "      <th>Decision Tree</th>\n",
       "    </tr>\n",
       "  </thead>\n",
       "  <tbody>\n",
       "    <tr>\n",
       "      <th>Multiclass</th>\n",
       "      <td>0.442817</td>\n",
       "      <td>0.514583</td>\n",
       "      <td>0.551071</td>\n",
       "      <td>0.530040</td>\n",
       "    </tr>\n",
       "    <tr>\n",
       "      <th>OneVsRest</th>\n",
       "      <td>0.385298</td>\n",
       "      <td>0.560456</td>\n",
       "      <td>0.575159</td>\n",
       "      <td>0.581627</td>\n",
       "    </tr>\n",
       "    <tr>\n",
       "      <th>OneVsOne</th>\n",
       "      <td>0.437242</td>\n",
       "      <td>0.591905</td>\n",
       "      <td>0.554921</td>\n",
       "      <td>0.696369</td>\n",
       "    </tr>\n",
       "  </tbody>\n",
       "</table>\n",
       "</div>"
      ],
      "text/plain": [
       "            Logistic  Random Forest  K Nearest Neighbors  Decision Tree\n",
       "Multiclass  0.442817       0.514583             0.551071       0.530040\n",
       "OneVsRest   0.385298       0.560456             0.575159       0.581627\n",
       "OneVsOne    0.437242       0.591905             0.554921       0.696369"
      ]
     },
     "metadata": {},
     "output_type": "display_data"
    },
    {
     "name": "stdout",
     "output_type": "stream",
     "text": [
      "Training Duration (CV=5)\n"
     ]
    },
    {
     "data": {
      "text/html": [
       "<div>\n",
       "<style scoped>\n",
       "    .dataframe tbody tr th:only-of-type {\n",
       "        vertical-align: middle;\n",
       "    }\n",
       "\n",
       "    .dataframe tbody tr th {\n",
       "        vertical-align: top;\n",
       "    }\n",
       "\n",
       "    .dataframe thead th {\n",
       "        text-align: right;\n",
       "    }\n",
       "</style>\n",
       "<table border=\"1\" class=\"dataframe\">\n",
       "  <thead>\n",
       "    <tr style=\"text-align: right;\">\n",
       "      <th></th>\n",
       "      <th>Logistic</th>\n",
       "      <th>Random Forest</th>\n",
       "      <th>K Nearest Neighbors</th>\n",
       "      <th>Decision Tree</th>\n",
       "    </tr>\n",
       "  </thead>\n",
       "  <tbody>\n",
       "    <tr>\n",
       "      <th>Multiclass</th>\n",
       "      <td>0.057890</td>\n",
       "      <td>0.173523</td>\n",
       "      <td>0.017953</td>\n",
       "      <td>0.008976</td>\n",
       "    </tr>\n",
       "    <tr>\n",
       "      <th>OneVsRest</th>\n",
       "      <td>0.153545</td>\n",
       "      <td>0.794876</td>\n",
       "      <td>0.063830</td>\n",
       "      <td>0.024933</td>\n",
       "    </tr>\n",
       "    <tr>\n",
       "      <th>OneVsOne</th>\n",
       "      <td>0.320895</td>\n",
       "      <td>2.039659</td>\n",
       "      <td>0.209439</td>\n",
       "      <td>0.027925</td>\n",
       "    </tr>\n",
       "  </tbody>\n",
       "</table>\n",
       "</div>"
      ],
      "text/plain": [
       "            Logistic  Random Forest  K Nearest Neighbors  Decision Tree\n",
       "Multiclass  0.057890       0.173523             0.017953       0.008976\n",
       "OneVsRest   0.153545       0.794876             0.063830       0.024933\n",
       "OneVsOne    0.320895       2.039659             0.209439       0.027925"
      ]
     },
     "metadata": {},
     "output_type": "display_data"
    }
   ],
   "source": [
    "### BEGIN Solution (do not delete this comment)\n",
    "\n",
    "clfs = [\n",
    "    LogisticRegression(random_state=0xC0FFEE, n_jobs=-1),\n",
    "    RandomForestClassifier(n_estimators=100, max_depth=3, n_jobs=-1, random_state=0xC0FFEE),\n",
    "    KNeighborsClassifier(n_neighbors=5, n_jobs=-1),\n",
    "    DecisionTreeClassifier(max_depth=7, random_state=0xC0FFEE),\n",
    "]\n",
    "\n",
    "labels = ['Logistic', 'Random Forest', 'K Nearest Neighbors', 'Decision Tree']\n",
    "\n",
    "scores = dict(zip(labels, [[], [], [], []]))\n",
    "times = dict(zip(labels, [[], [], [], []]))\n",
    "\n",
    "for clf, label in zip(clfs, labels):\n",
    "    \n",
    "    start = time()\n",
    "    scores[label].append(np.mean(cross_val_score(clf, X, y, scoring='balanced_accuracy', cv=5, n_jobs=-1)))\n",
    "    times[label].append(time() - start)\n",
    "    \n",
    "    start = time()\n",
    "    ovr = OneVsRestClassifier(clf, n_jobs=-1)\n",
    "    scores[label].append(np.mean(cross_val_score(ovr, X, y, scoring='balanced_accuracy', cv=5, n_jobs=-1)))\n",
    "    times[label].append(time() - start)\n",
    "    \n",
    "    start = time()\n",
    "    ovo = OneVsOneClassifier(clf, n_jobs=-1)\n",
    "    scores[label].append(np.mean(cross_val_score(ovo, X, y, scoring='balanced_accuracy', cv=5, n_jobs=-1)))\n",
    "    times[label].append(time() - start)\n",
    "\n",
    "index = ['Multiclass', 'OneVsRest', 'OneVsOne']\n",
    "scores = pd.DataFrame(data=scores, index=index)\n",
    "times = pd.DataFrame(data=times, index=index)\n",
    "print('Cross Validation Scores')\n",
    "display(scores)\n",
    "print('Training Duration (CV=5)')\n",
    "display(times)\n",
    "\n",
    "### END Solution (do not delete this comment)"
   ]
  },
  {
   "cell_type": "markdown",
   "id": "married-preserve",
   "metadata": {
    "id": "married-preserve"
   },
   "source": [
    "**Which metric did you choose to optimize during cross validation and why? Explain**"
   ]
  },
  {
   "cell_type": "markdown",
   "id": "dutch-alfred",
   "metadata": {
    "id": "dutch-alfred"
   },
   "source": [
    "**Your text answer (do not delete this comment)**:\n",
    "\n",
    "I chose `balanced_accuracy` metrtic because it is designed not only to show the perfomance of the model, but also to deal with imbalanced datasets in multiclass classification problems by averaging recall obtained on each class."
   ]
  },
  {
   "cell_type": "markdown",
   "id": "elect-jerusalem",
   "metadata": {
    "id": "elect-jerusalem"
   },
   "source": [
    "**For which algorithms the usage of OneVSRest/OneVSOne approach provides significantly better performance without a significant increase in computation time?**"
   ]
  },
  {
   "cell_type": "markdown",
   "id": "CH04Ord57RS4",
   "metadata": {
    "id": "CH04Ord57RS4"
   },
   "source": [
    "**Your text answer (do not delete this comment)**:\n",
    "\n",
    "For Decision Tree model. The accuracy increases up to $0.7$ while computational time increases only $2-3$ times. For comparison, for Random Forest model computational time increases 4 (12) times for OneVsRest (OneVsOne) approach."
   ]
  },
  {
   "cell_type": "markdown",
   "id": "electric-matthew",
   "metadata": {
    "id": "electric-matthew"
   },
   "source": [
    "# Task 3. Stacking (2 points)"
   ]
  },
  {
   "cell_type": "markdown",
   "id": "third-liverpool",
   "metadata": {
    "id": "third-liverpool"
   },
   "source": [
    "Stacking is an ensembling approach, which combines several algorithms (base models) to get better results. This is achieved by **a)** training the base models (any ML models) on the initial train data (or parts of the train data, see the paragraph below), **b)** training the meta-model (also an ML model) on the predictions of those base models.\n",
    "\n",
    "One of the main problems of stacking is overfitting. To avoid it, when evaluating the performance of the meta-model on the train set, the training data is divided into $ n $ folds, $ (n-1) $ of which are used for training the base models. The $ n $ -th fold is used for the overall prediction (calculating the meta-factor) in the following manner: the predictions on the $ n $ -th fold are made by the base models (already trained on the rest of the dataset), then these predictions on the $ n $ -th fold are fed as inputs to the meta-model.\n",
    "\n",
    "When evaluating the performance of the meta-model on the test set, there can be used various approaches$.^{[1]}$ For example, in order, to obtain meta-factors for the test data, the base classifiers can be retrained on the entire training set, since the problem of overfitting does not arise here. In other words, if we want to calculate the factors for the test set, we can safely use the training set to train the base classifiers (once again, as it is said in the paragraph above, if we want to calculate factors for the training set, then it is necessary to ensure that the classifier does not predict for those objects on which it has been trained).  \n",
    "\n",
    "You can read more details about stacking [blockpost](https://blog.statsbot.co/ensemble-learning-d1dcd548e936), [kaggle ensemble guide](https://mlwave.com/kaggle-ensembling-guide/).\n",
    "\n",
    "P.S. Stacking and Blending are two similar approaches to combining classifiers (ensembling). The difference is that Stacking uses out-of-fold predictions for the train set, and Blending uses a validation set to train the next layer ([source](quora.com/What-are-examples-of-blending-and-stacking-in-Machine-Learning)). Because they are so similar you can use any of them. \n",
    "\n",
    "[1] http://www.machinelearning.ru/wiki/images/5/56/Guschin2015Stacking.pdf  "
   ]
  },
  {
   "cell_type": "markdown",
   "id": "recognized-guest",
   "metadata": {
    "id": "recognized-guest"
   },
   "source": [
    "**Your task will be:**\n",
    "\n",
    "* Complete the ```meta_classfier``` function\n",
    "* Choose 6 different base models (base models can be any models that you know, and can differ between each other by different hyperparameters, models of ml, features e.t.c) and train them.\n",
    "* Report individual accuracy on the test set for each of the models.\n",
    "* Train the metaclassifier (in this case, once again, it is just an ML model) on the original dataset's features, report score on test.\n",
    "* Train the metaclassifier on the base models using $n$-fold cross-validation, as described above. Report the training score of the meta-classifier on the $ n $-th fold. Retrain the base models on the whole training set. Report the test score (accuracy) of the meta-classifier in this case.\n",
    "* Does stacking help to gain a better score?"
   ]
  },
  {
   "cell_type": "markdown",
   "id": "incident-ceremony",
   "metadata": {
    "id": "incident-ceremony"
   },
   "source": [
    "For this task we will use the dataset fetch_covertype from [sklearn](https://scikit-learn.org/stable/modules/generated/sklearn.datasets.fetch_covtype.html#sklearn.datasets.fetch_covtype). Split it train-test - 60/40.\n",
    "More details about this dataset you can find [here](https://archive.ics.uci.edu/ml/datasets/Covertype)"
   ]
  },
  {
   "cell_type": "code",
   "execution_count": 20,
   "id": "banner-input",
   "metadata": {
    "id": "banner-input"
   },
   "outputs": [],
   "source": [
    "from sklearn import datasets\n",
    "fc = sklearn.datasets.fetch_covtype()"
   ]
  },
  {
   "cell_type": "markdown",
   "id": "collected-flash",
   "metadata": {
    "id": "collected-flash"
   },
   "source": [
    "Write meta classifier function."
   ]
  },
  {
   "cell_type": "code",
   "execution_count": 75,
   "id": "brilliant-greensboro",
   "metadata": {
    "id": "brilliant-greensboro"
   },
   "outputs": [],
   "source": [
    "def meta_classifier(base_clfs, final_classifier, X_train, y_train, X_test, cv):\n",
    "    \"\"\"\n",
    "    Meta classifier prediction using stacking. \n",
    "    Input:\n",
    "    :param base_clfs: list,  base classifiers which will be stacked together.\n",
    "    :param final_classifier: estimator, a classifier which will be used to combine the base estimators. \n",
    "    :param X_train: numpy array or pandas table, train set.\n",
    "    :param y_train: numpy array or pandas table, target for train set.\n",
    "    :param X_test: numpy array or pandas table, test set.\n",
    "    :param cv: number of cross-validation folds.\n",
    "    \n",
    "    Output:\n",
    "    :param y_pred: numpy array or pandas table, prediction of meta classifier using stacking on test set.\n",
    "    :param final_classifier(optional): estimator, trained final_calssifier.\n",
    "    \n",
    "    \n",
    "    More details https://scikit-learn.org/stable/modules/generated/sklearn.ensemble.StackingClassifier.html\n",
    "    \n",
    "    \"\"\"\n",
    "    ### BEGIN Solution (do not delete this comment)\n",
    "\n",
    "    assert cv == len(base_clfs) + 1, 'Number of base clfs does not correspond to CV!'\n",
    "    \n",
    "    nrows = X_train.shape[0]\n",
    "    nrows_in_fold = nrows // cv\n",
    "    ind = [range(i * nrows_in_fold, (i + 1) * nrows_in_fold) for i in range(cv)]\n",
    "    ind[-1] = range((cv - 1) * nrows_in_fold, nrows)\n",
    "    \n",
    "    X_final = np.zeros((len(ind[-1]), len(base_clfs)))\n",
    "    y_final = y_train[ind[-1]]\n",
    "    \n",
    "    for i, (base_clf, index) in enumerate(zip(base_clfs, ind[:-1])):\n",
    "        base_clf.fit(X_train[index, :], y_train[index])\n",
    "        X_final[:, i] = base_clf.predict(X_train[ind[-1], :])\n",
    "    \n",
    "    final_classifier.fit(X_final, y_final)\n",
    "    meta_train_score = accuracy_score(y_final, meta_clf.predict(X_final))\n",
    "    print(f'Metaclassifier score on the base models on the {cv}-th fold: {meta_train_score}')\n",
    "    \n",
    "    X_meta_test = np.zeros((X_test.shape[0], len(base_clfs)))\n",
    "    \n",
    "    # Retrain the base models on the whole set.\n",
    "    for i, base_clf in enumerate(base_clfs):\n",
    "        base_clf.fit(X_train, y_train)\n",
    "        X_meta_test[:, i] = base_clf.predict(X_test)\n",
    "    \n",
    "    y_pred = final_classifier.predict(X_meta_test)\n",
    "    \n",
    "    ### END Solution (do not delete this comment)\n",
    "    return y_pred, final_classifier"
   ]
  },
  {
   "cell_type": "markdown",
   "id": "vfZmdicwORxq",
   "metadata": {
    "id": "vfZmdicwORxq"
   },
   "source": [
    "### Subproblem 3.1 (1 point)"
   ]
  },
  {
   "cell_type": "markdown",
   "id": "incredible-wichita",
   "metadata": {
    "id": "incredible-wichita"
   },
   "source": [
    "**3.1.1) Chose 6 different base models (base models can be any models that you know,and can differ with each other by different hyperparameters,  models of ml, features e.t.c) and train them.**"
   ]
  },
  {
   "cell_type": "code",
   "execution_count": 22,
   "id": "cleared-supply",
   "metadata": {
    "colab": {
     "base_uri": "https://localhost:8080/"
    },
    "id": "cleared-supply",
    "outputId": "6c3af77e-4cc3-41cf-85e1-c179b6332f02"
   },
   "outputs": [],
   "source": [
    "### BEGIN Solution (do not delete this comment)\n",
    "\n",
    "X, y = fc.data, fc.target\n",
    "X_train, X_test, y_train, y_test = train_test_split(\n",
    "    X, y,\n",
    "    test_size=.2,\n",
    "    random_state=0xC0FFEE,\n",
    "    shuffle=True,\n",
    "    stratify=y,\n",
    ")\n",
    "\n",
    "base_clfs = [\n",
    "    DecisionTreeClassifier(random_state=0xC0FFEE),\n",
    "    DecisionTreeClassifier(max_depth=3, random_state=0xC0FFEE),\n",
    "    DecisionTreeClassifier(max_depth=7, random_state=0xC0FFEE),\n",
    "    RandomForestClassifier(n_estimators=10, max_depth=5),\n",
    "    RandomForestClassifier(n_estimators=10, max_depth=10, n_jobs=-1, random_state=0xC0FFEE),\n",
    "    RandomForestClassifier(n_estimators=25, max_depth=5, n_jobs=-1, random_state=0xC0FFEE),\n",
    "]\n",
    "\n",
    "for clf in base_clfs:\n",
    "    clf.fit(X_train, y_train)\n",
    "\n",
    "### END Solution (do not delete this comment)"
   ]
  },
  {
   "cell_type": "markdown",
   "id": "streaming-crowd",
   "metadata": {
    "id": "streaming-crowd"
   },
   "source": [
    "**3.1.2) Report individual scores on test set. As a score use accuracy.**"
   ]
  },
  {
   "cell_type": "code",
   "execution_count": 25,
   "id": "standing-breakdown",
   "metadata": {
    "colab": {
     "base_uri": "https://localhost:8080/"
    },
    "id": "standing-breakdown",
    "outputId": "34a2ebd2-6a1c-40c4-afec-d5cab639cd46"
   },
   "outputs": [
    {
     "data": {
      "text/plain": [
       "{'DT default': 0.9388742115091693,\n",
       " 'DT depth=3': 0.6744318132922558,\n",
       " 'DT depth=7': 0.7254201698751324,\n",
       " 'RF 10 by 5': 0.6667641971377676,\n",
       " 'RF 10 by 10': 0.7524676643460152,\n",
       " 'RF 25 by 5': 0.6838549779265596}"
      ]
     },
     "execution_count": 25,
     "metadata": {},
     "output_type": "execute_result"
    }
   ],
   "source": [
    "### BEGIN Solution (do not delete this comment)\n",
    "\n",
    "labels = ['DT default', 'DT depth=3', 'DT depth=7', 'RF 10 by 5', 'RF 10 by 10', 'RF 25 by 5']\n",
    "scores = {}\n",
    "\n",
    "for label, clf in zip(labels, base_clfs):\n",
    "    y_pred = clf.predict(X_test)\n",
    "    scores[label] = accuracy_score(y_test, y_pred)\n",
    "\n",
    "scores\n",
    "\n",
    "### END Solution (do not delete this comment)"
   ]
  },
  {
   "cell_type": "markdown",
   "id": "8CsZdyGPOj6E",
   "metadata": {
    "id": "8CsZdyGPOj6E"
   },
   "source": [
    "### Subproblem 3.2 (1 point)"
   ]
  },
  {
   "cell_type": "markdown",
   "id": "adolescent-street",
   "metadata": {
    "id": "adolescent-street"
   },
   "source": [
    "**3.2.1) Train metaclassifier (in this case, once again, it is just an ML model) on original dataset's features. And report score on test.**"
   ]
  },
  {
   "cell_type": "code",
   "execution_count": 27,
   "id": "lesbian-fields",
   "metadata": {
    "id": "lesbian-fields"
   },
   "outputs": [
    {
     "name": "stdout",
     "output_type": "stream",
     "text": [
      "Metaclassifier score on originial data: 0.6372210700240097\n"
     ]
    }
   ],
   "source": [
    "### BEGIN Solution (do not delete this comment)\n",
    "\n",
    "meta_clf = RandomForestClassifier(n_estimators=6, max_depth=3, n_jobs=-1, random_state=0xC0FFEE)\n",
    "meta_clf.fit(X_train, y_train)\n",
    "print(f'Metaclassifier score on original data: {accuracy_score(y_test, meta_clf.predict(X_test))}')\n",
    "\n",
    "### END Solution (do not delete this comment)"
   ]
  },
  {
   "cell_type": "markdown",
   "id": "horizontal-wallace",
   "metadata": {
    "id": "horizontal-wallace"
   },
   "source": [
    "**3.2.2) Train the metaclassifier on the base models using $n$-fold cross-validation, as described above. Report the training score of the meta-classifier on the $ n $-th fold. Retrain the base models on the whole training set. Report the test score (accuracy) of the meta-classifier in this case.**"
   ]
  },
  {
   "cell_type": "code",
   "execution_count": 76,
   "id": "renewable-concrete",
   "metadata": {
    "id": "renewable-concrete"
   },
   "outputs": [
    {
     "name": "stdout",
     "output_type": "stream",
     "text": [
      "Metaclassifier score on the base models on the 7-th fold: 0.7977952803337198\n",
      "Metaclassifier score on test set: 0.8325000215140745\n"
     ]
    }
   ],
   "source": [
    "### BEGIN Solution (do not delete this comment)\n",
    "\n",
    "y_meta, _ = meta_classifier(base_clfs, meta_clf, X_train, y_train, X_test, 7)\n",
    "print(f'Metaclassifier score on test set: {accuracy_score(y_test, y_meta)}')\n",
    "\n",
    "### END Solution (do not delete this comment)"
   ]
  },
  {
   "cell_type": "markdown",
   "id": "printable-premium",
   "metadata": {
    "id": "printable-premium"
   },
   "source": [
    "**3.2.3) Report score(accuracy) on test.**"
   ]
  },
  {
   "cell_type": "code",
   "execution_count": 77,
   "id": "auburn-easter",
   "metadata": {
    "id": "auburn-easter"
   },
   "outputs": [
    {
     "name": "stdout",
     "output_type": "stream",
     "text": [
      "Metaclassifier score on test set: 0.8325000215140745\n"
     ]
    }
   ],
   "source": [
    "### BEGIN Solution (do not delete this comment)\n",
    "\n",
    "print(f'Metaclassifier score on test set: {accuracy_score(y_test, y_meta)}')\n",
    "\n",
    "### END Solution (do not delete this comment)"
   ]
  },
  {
   "cell_type": "markdown",
   "id": "premier-scout",
   "metadata": {
    "id": "premier-scout"
   },
   "source": [
    "**3.2.4) Does stacking helped to gain a better score?**"
   ]
  },
  {
   "cell_type": "markdown",
   "id": "vSV5hJFR7RS-",
   "metadata": {
    "id": "vSV5hJFR7RS-"
   },
   "source": [
    "**Your text answer (do not delete this comment)**:\n",
    "\n",
    "Yes, accuracy of the final classifier in the original test data was $64\\%$, and after stacking it increased to $83\\%$."
   ]
  },
  {
   "cell_type": "code",
   "execution_count": null,
   "id": "offensive-parts",
   "metadata": {
    "id": "offensive-parts"
   },
   "outputs": [],
   "source": []
  }
 ],
 "metadata": {
  "colab": {
   "name": "ML_HW_2.ipynb",
   "provenance": []
  },
  "kernelspec": {
   "display_name": "Python 3 (ipykernel)",
   "language": "python",
   "name": "python3"
  },
  "language_info": {
   "codemirror_mode": {
    "name": "ipython",
    "version": 3
   },
   "file_extension": ".py",
   "mimetype": "text/x-python",
   "name": "python",
   "nbconvert_exporter": "python",
   "pygments_lexer": "ipython3",
   "version": "3.9.7"
  }
 },
 "nbformat": 4,
 "nbformat_minor": 5
}
